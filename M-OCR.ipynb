{
  "cells": [
    {
      "cell_type": "markdown",
      "metadata": {
        "id": "UT3bPfHpjeM_"
      },
      "source": [
        "# Setup"
      ]
    },
    {
      "cell_type": "code",
      "execution_count": null,
      "metadata": {
        "id": "IFZrbdrNJwBt"
      },
      "outputs": [],
      "source": [
        "from google.colab import drive\n",
        "drive.mount(\"/content/drive\")"
      ]
    },
    {
      "cell_type": "code",
      "execution_count": null,
      "metadata": {
        "id": "_i8g2x0uEriy"
      },
      "outputs": [],
      "source": [
        "!git clone https://github.com/rois-codh/kmnist.git"
      ]
    },
    {
      "cell_type": "code",
      "execution_count": null,
      "metadata": {
        "id": "qB46iFSWHcOW"
      },
      "outputs": [],
      "source": [
        "%cd kmnist"
      ]
    },
    {
      "cell_type": "code",
      "execution_count": null,
      "metadata": {
        "id": "GD7H4yV3HXkn"
      },
      "outputs": [],
      "source": [
        "# Download Kuzushiji-49\n",
        "!python download_data.py"
      ]
    },
    {
      "cell_type": "code",
      "execution_count": null,
      "metadata": {
        "id": "2v8b7qhYjrAG"
      },
      "outputs": [],
      "source": [
        "import numpy as np\n",
        "import tensorflow as tf\n",
        "from google.colab.patches import cv2_imshow\n",
        "from tensorflow.keras.preprocessing.image import ImageDataGenerator\n",
        "from tensorflow.keras.optimizers import SGD\n",
        "from sklearn.preprocessing import LabelBinarizer\n",
        "from sklearn.model_selection import train_test_split\n",
        "from sklearn.metrics import classification_report\n",
        "import imutils\n",
        "from imutils import build_montages\n",
        "from imutils.contours import sort_contours\n",
        "import cv2\n",
        "import json\n",
        "import matplotlib"
      ]
    },
    {
      "cell_type": "code",
      "execution_count": null,
      "metadata": {
        "id": "ZAEyAdwnkuCQ"
      },
      "outputs": [],
      "source": [
        "matplotlib.use(\"Agg\")"
      ]
    },
    {
      "cell_type": "code",
      "execution_count": null,
      "metadata": {
        "id": "yNFDnRjr8jyr"
      },
      "outputs": [],
      "source": [
        "%cd /content/drive/MyDrive/NRP/Project/OCRData"
      ]
    },
    {
      "cell_type": "markdown",
      "metadata": {
        "id": "vTWyKIsvmCYT"
      },
      "source": [
        "# Prepare Dataset"
      ]
    },
    {
      "cell_type": "code",
      "execution_count": null,
      "metadata": {
        "id": "loOLK4GXO_-U"
      },
      "outputs": [],
      "source": [
        "def load_hiragana_dataset():\n",
        "    TRAIN_DATA = \"/content/kmnist/k49-train-imgs.npz\"\n",
        "    TRAIN_LABELS = \"/content/kmnist/k49-train-labels.npz\"\n",
        "    TEST_DATA = \"/content/kmnist/k49-test-imgs.npz\"\n",
        "    TEST_LABELS = \"/content/kmnist/k49-test-labels.npz\"\n",
        "\n",
        "    train_data = np.load(TRAIN_DATA)[\"arr_0\"]\n",
        "    train_labels = np.load(TRAIN_LABELS)[\"arr_0\"]\n",
        "    test_data = np.load(TEST_DATA)[\"arr_0\"]\n",
        "    test_labels = np.load(TEST_LABELS)[\"arr_0\"]\n",
        "\n",
        "    data = np.vstack([train_data, test_data])\n",
        "    data = [cv2.resize(image, (32, 32)) for image in data]\n",
        "    data = np.array(data, dtype=\"float32\")\n",
        "    data = np.expand_dims(data, axis=-1)\n",
        "    data /= 255.0\n",
        "\n",
        "    labels = np.hstack([train_labels, test_labels])\n",
        "\n",
        "    return data, labels"
      ]
    },
    {
      "cell_type": "code",
      "execution_count": null,
      "metadata": {
        "id": "_zDF-cCd0r-8"
      },
      "outputs": [],
      "source": [
        "def load_kanji_dataset():\n",
        "    TRAIN_DATA = \"/content/drive/MyDrive/NRP/Project/OCRData/kuzushiji50_train_imgs.npy\"\n",
        "    TRAIN_LABELS = \"/content/drive/MyDrive/NRP/Project/OCRData/kuzushiji50_train_labels.npy\"\n",
        "    TEST_DATA = \"/content/drive/MyDrive/NRP/Project/OCRData/kuzushiji50_test_imgs.npy\"\n",
        "    TEST_LABELS = \"/content/drive/MyDrive/NRP/Project/OCRData/kuzushiji50_test_labels.npy\"\n",
        "\n",
        "    train_data = np.load(TRAIN_DATA)\n",
        "    train_labels = np.load(TRAIN_LABELS)\n",
        "    test_data = np.load(TEST_DATA)\n",
        "    test_labels = np.load(TEST_LABELS)\n",
        "\n",
        "    data = np.vstack([train_data, test_data])\n",
        "    data = [cv2.resize(image, (32, 32)) for image in data]\n",
        "    data = np.array(data, dtype=\"float32\")\n",
        "    data = np.expand_dims(data, axis=-1)\n",
        "    data /= 255.0\n",
        "\n",
        "    labels = np.hstack([train_labels, test_labels])\n",
        "    labels = [i+49 for i in labels]\n",
        "    labels = np.array(labels, dtype=\"int\")\n",
        "\n",
        "    return data, labels"
      ]
    },
    {
      "cell_type": "code",
      "execution_count": null,
      "metadata": {
        "id": "j8dnkfFbnC3p"
      },
      "outputs": [],
      "source": [
        "data_hiragana, labels_hiragana = load_hiragana_dataset()\n",
        "data_kanji, labels_kanji = load_kanji_dataset()\n",
        "\n",
        "data = np.vstack([data_hiragana, data_kanji])\n",
        "labels = np.hstack([labels_hiragana, labels_kanji])"
      ]
    },
    {
      "cell_type": "code",
      "execution_count": null,
      "metadata": {
        "id": "8NL-NhCmtU1i"
      },
      "outputs": [],
      "source": [
        "le = LabelBinarizer()\n",
        "labels = le.fit_transform(labels)\n",
        "counts = labels.sum(axis=0)\n",
        "\n",
        "class_totals = labels.sum(axis=0)\n",
        "class_weight = {}\n",
        "\n",
        "for i in range(0, len(class_totals)):\n",
        "    class_weight[i] = class_totals.max() / class_totals[i]\n",
        "\n",
        "train_x, test_x, train_y, test_y = train_test_split(data, labels, test_size=0.20, stratify=labels, random_state=42)"
      ]
    },
    {
      "cell_type": "code",
      "execution_count": null,
      "metadata": {
        "id": "ItQVAZ59tpA_"
      },
      "outputs": [],
      "source": [
        "aug = ImageDataGenerator(\n",
        "    rotation_range=10,\n",
        "    zoom_range=0.05,\n",
        "    width_shift_range=0.1,\n",
        "    height_shift_range=0.1,\n",
        "    shear_range=0.15,\n",
        "    horizontal_flip=False,\n",
        "    fill_mode=\"nearest\"\n",
        ")"
      ]
    },
    {
      "cell_type": "markdown",
      "metadata": {
        "id": "AugiSlTnuRqH"
      },
      "source": [
        "# Train Model"
      ]
    },
    {
      "cell_type": "code",
      "execution_count": null,
      "metadata": {
        "id": "ah4zVTnjm5oD"
      },
      "outputs": [],
      "source": [
        "# Settings\n",
        "EPOCHS = 50\n",
        "INIT_LR = 0.005\n",
        "BS = 128"
      ]
    },
    {
      "cell_type": "code",
      "execution_count": null,
      "metadata": {
        "id": "OVEBgWEizTyp"
      },
      "outputs": [],
      "source": [
        "model = tf.keras.applications.resnet50.ResNet50(input_shape=(32, 32, 1), weights=None, classes=99)"
      ]
    },
    {
      "cell_type": "code",
      "execution_count": null,
      "metadata": {
        "id": "kfjKm5hauNaH"
      },
      "outputs": [],
      "source": [
        "opt = SGD(learning_rate=INIT_LR, decay=INIT_LR/EPOCHS)\n",
        "model.compile(loss=\"categorical_crossentropy\", optimizer=opt, metrics=[\"accuracy\"])"
      ]
    },
    {
      "cell_type": "code",
      "execution_count": null,
      "metadata": {
        "id": "jvwhUV9ww7-J"
      },
      "outputs": [],
      "source": [
        "H = model.fit(\n",
        "    aug.flow(train_x, train_y, batch_size=BS),\n",
        "    validation_data=(test_x, test_y),\n",
        "    steps_per_epoch=len(train_x)//BS,\n",
        "    epochs=EPOCHS,\n",
        "    class_weight=class_weight,\n",
        "    verbose=1\n",
        ")"
      ]
    },
    {
      "cell_type": "code",
      "execution_count": null,
      "metadata": {
        "id": "YM6cw7bV96Ed"
      },
      "outputs": [],
      "source": [
        "%cd /content/"
      ]
    },
    {
      "cell_type": "code",
      "execution_count": null,
      "metadata": {
        "id": "fdITzk3uG-gc"
      },
      "outputs": [],
      "source": [
        "model.save(\"ocr.h5\")"
      ]
    },
    {
      "cell_type": "code",
      "execution_count": null,
      "metadata": {
        "id": "hFjEX71AKvzq"
      },
      "outputs": [],
      "source": [
        "with open('config.json', 'w') as outfile:\n",
        "  json.dump(model.get_config(), outfile, indent=4)"
      ]
    },
    {
      "cell_type": "markdown",
      "metadata": {
        "id": "gmKe8zg8J6ik"
      },
      "source": [
        "# Evaluate Model"
      ]
    },
    {
      "cell_type": "code",
      "execution_count": null,
      "metadata": {
        "id": "9n11UDImJ5kr"
      },
      "outputs": [],
      "source": [
        "model = tf.keras.applications.resnet50.ResNet50(input_shape=(32, 32, 1), weights=None, classes=99)\n",
        "model.load_weights(\"/content/drive/MyDrive/NRP/Project/Working/M-OCR/ResNet-50/ocr.h5\")\n",
        "\n",
        "label_names = [str(index) for index in range(99)]\n",
        "predictions = model.predict(test_x, batch_size=BS)\n",
        "\n",
        "print(classification_report(test_y.argmax(axis=1), predictions.argmax(axis=1), target_names=label_names))"
      ]
    },
    {
      "cell_type": "markdown",
      "metadata": {
        "id": "_w-oqsz3J_Zb"
      },
      "source": [
        "# Analyse Model"
      ]
    },
    {
      "cell_type": "code",
      "execution_count": null,
      "metadata": {
        "id": "VALKCO_ihjkK"
      },
      "outputs": [],
      "source": [
        "# For ResNet-50\n",
        "model = tf.keras.applications.resnet50.ResNet50(input_shape=(32, 32, 1), weights=None, classes=99)\n",
        "model.load_weights(\"/content/drive/MyDrive/NRP/Project/Working/M-OCR/ResNet-50/ocr.h5\")"
      ]
    },
    {
      "cell_type": "code",
      "execution_count": null,
      "metadata": {
        "id": "-FH4ulsojf_6"
      },
      "outputs": [],
      "source": [
        "# For ResNet-101\n",
        "model = tf.keras.applications.resnet.ResNet101(input_shape=(32, 32, 1), weights=None, classes=99)\n",
        "model.load_weights(\"/content/drive/MyDrive/NRP/Project/Working/M-OCR/ResNet-101/ocr.h5\")"
      ]
    },
    {
      "cell_type": "code",
      "execution_count": null,
      "metadata": {
        "id": "7aMYxugOGBNz"
      },
      "outputs": [],
      "source": [
        "images = []\n",
        "\n",
        "for i in range(100, 200):\n",
        "    probs = model.predict(test_x[np.newaxis, i])\n",
        "    prediction = probs.argmax(axis=1)\n",
        "    image = (test_x[i]*255).astype(\"uint8\")\n",
        "    color = (0, 255, 0)\n",
        "\n",
        "    if prediction[0] != np.argmax(test_y[i]):\n",
        "        color = (0, 0, 255)\n",
        "\n",
        "    image = cv2.merge([image] * 3)\n",
        "    image = cv2.resize(image, (96, 96), interpolation=cv2.INTER_LINEAR)\n",
        "    cv2.putText(image, str(prediction[0]), (5, 20), cv2.FONT_HERSHEY_SIMPLEX, 0.75, color, 2)\n",
        "    images.append(image)\n",
        "\n",
        "montage = build_montages(images, (96, 96), (10, 10))[0]\n",
        "\n",
        "cv2_imshow(montage)\n",
        "cv2.waitKey(0)"
      ]
    }
  ],
  "metadata": {
    "accelerator": "GPU",
    "colab": {
      "collapsed_sections": [],
      "name": "M-OCR.ipynb",
      "provenance": []
    },
    "kernelspec": {
      "display_name": "Python 3",
      "name": "python3"
    },
    "language_info": {
      "name": "python",
      "version": "3.9.7"
    }
  },
  "nbformat": 4,
  "nbformat_minor": 0
}
