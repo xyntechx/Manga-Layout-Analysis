{
  "cells": [
    {
      "cell_type": "markdown",
      "metadata": {
        "id": "yUlkhqyHDJ67"
      },
      "source": [
        "# Setup"
      ]
    },
    {
      "cell_type": "code",
      "execution_count": null,
      "metadata": {
        "id": "65_s-TVYDoSV"
      },
      "outputs": [],
      "source": [
        "from google.colab import drive\n",
        "drive.mount(\"/content/drive\")"
      ]
    },
    {
      "cell_type": "code",
      "execution_count": null,
      "metadata": {
        "id": "QxF5Y5as_WX6"
      },
      "outputs": [],
      "source": [
        "!pip install pyyaml==5.1"
      ]
    },
    {
      "cell_type": "code",
      "execution_count": null,
      "metadata": {
        "id": "exq6CF73_sg6"
      },
      "outputs": [],
      "source": [
        "!pip install torch==1.7.1+cu101 torchvision==0.8.2+cu101 torchaudio==0.7.2 -f https://download.pytorch.org/whl/torch_stable.html"
      ]
    },
    {
      "cell_type": "code",
      "execution_count": null,
      "metadata": {
        "id": "-EXPMJLDAWl4"
      },
      "outputs": [],
      "source": [
        "import torch"
      ]
    },
    {
      "cell_type": "code",
      "execution_count": null,
      "metadata": {
        "id": "YZDNoqEkAf3A"
      },
      "outputs": [],
      "source": [
        "!pip install detectron2 -f https://dl.fbaipublicfiles.com/detectron2/wheels/cu101/torch1.7/index.html"
      ]
    },
    {
      "cell_type": "code",
      "execution_count": null,
      "metadata": {
        "id": "9Zl3-kgsNZzS"
      },
      "outputs": [],
      "source": [
        "!git clone --branch v0.6 https://github.com/facebookresearch/detectron2.git detectron2_repo\n",
        "!pip install -e detectron2_repo"
      ]
    },
    {
      "cell_type": "code",
      "execution_count": null,
      "metadata": {
        "id": "BgXO8A0JAqhP"
      },
      "outputs": [],
      "source": [
        "import detectron2\n",
        "from detectron2 import model_zoo\n",
        "from detectron2.utils.logger import setup_logger\n",
        "from detectron2.utils.visualizer import Visualizer, ColorMode\n",
        "from detectron2.engine import DefaultPredictor, DefaultTrainer\n",
        "from detectron2.config import get_cfg\n",
        "from detectron2.data import MetadataCatalog, DatasetCatalog, build_detection_test_loader\n",
        "from detectron2.data.datasets import register_coco_instances\n",
        "from detectron2.projects import point_rend\n",
        "from detectron2.evaluation import COCOEvaluator, inference_on_dataset\n",
        "\n",
        "import random\n",
        "import os\n",
        "import pickle\n",
        "import cv2\n",
        "from google.colab.patches import cv2_imshow\n",
        "import matplotlib.pyplot as plt"
      ]
    },
    {
      "cell_type": "code",
      "execution_count": null,
      "metadata": {
        "id": "l8a5MboEUHBI"
      },
      "outputs": [],
      "source": [
        "setup_logger()"
      ]
    },
    {
      "cell_type": "code",
      "execution_count": null,
      "metadata": {
        "id": "vYdnIDAAMGA-"
      },
      "outputs": [],
      "source": [
        "root_path = \"/content/drive/MyDrive/NRP/Project/Manga2/\""
      ]
    },
    {
      "cell_type": "code",
      "execution_count": null,
      "metadata": {
        "id": "It73mjLCswvZ"
      },
      "outputs": [],
      "source": [
        "config_file_path = root_path + \"r101.yaml\"\n",
        "checkpoint_url = root_path + \"r101.yaml\""
      ]
    },
    {
      "cell_type": "code",
      "execution_count": null,
      "metadata": {
        "id": "Xw-s5LK_tX2n"
      },
      "outputs": [],
      "source": [
        "output_dir = \"./output\"\n",
        "num_classes = 2 # Speech, Panel"
      ]
    },
    {
      "cell_type": "code",
      "execution_count": null,
      "metadata": {
        "id": "VyrGz9QTtoq2"
      },
      "outputs": [],
      "source": [
        "device = \"cuda\""
      ]
    },
    {
      "cell_type": "code",
      "execution_count": null,
      "metadata": {
        "id": "AXrfwwILtpwY"
      },
      "outputs": [],
      "source": [
        "train_dataset_name = \"train\"\n",
        "train_images_path = root_path + \"train/\"\n",
        "train_json_annot_path = root_path + \"train.json\"\n",
        "\n",
        "test_dataset_name = \"test\"\n",
        "test_images_path = root_path + \"test/\"\n",
        "test_json_annot_path = root_path + \"test.json\""
      ]
    },
    {
      "cell_type": "code",
      "execution_count": null,
      "metadata": {
        "id": "thIUlSb3BflD"
      },
      "outputs": [],
      "source": [
        "# Register train dataset\n",
        "register_coco_instances(\n",
        "    name=train_dataset_name,\n",
        "    metadata={},\n",
        "    json_file=train_json_annot_path,\n",
        "    image_root=train_images_path\n",
        ")"
      ]
    },
    {
      "cell_type": "code",
      "execution_count": null,
      "metadata": {
        "id": "hgMpyTSDCYMA"
      },
      "outputs": [],
      "source": [
        "# Register test dataset\n",
        "register_coco_instances(\n",
        "    name=test_dataset_name,\n",
        "    metadata={},\n",
        "    json_file=test_json_annot_path,\n",
        "    image_root=test_images_path\n",
        ")"
      ]
    },
    {
      "cell_type": "markdown",
      "metadata": {
        "id": "iNApKM-GInpd"
      },
      "source": [
        "# Visualise Dataset"
      ]
    },
    {
      "cell_type": "code",
      "execution_count": null,
      "metadata": {
        "id": "kXYenhncC3zS"
      },
      "outputs": [],
      "source": [
        "def plot_sample(dataset_name, n=1):\n",
        "  dataset_custom = DatasetCatalog.get(dataset_name)\n",
        "  dataset_custom_metadata = MetadataCatalog.get(dataset_name)\n",
        "\n",
        "  for s in random.sample(dataset_custom, n):\n",
        "    img = cv2.imread(s[\"file_name\"])\n",
        "\n",
        "    v = Visualizer(img[:,:,::-1], metadata=dataset_custom_metadata, scale=0.5)\n",
        "    v = v.draw_dataset_dict(s)\n",
        "\n",
        "    plt.figure(figsize=(15,20))\n",
        "    plt.imshow(v.get_image())\n",
        "    plt.show()"
      ]
    },
    {
      "cell_type": "code",
      "execution_count": null,
      "metadata": {
        "id": "PibqTxh-EaTv"
      },
      "outputs": [],
      "source": [
        "plot_sample(dataset_name=train_dataset_name)"
      ]
    },
    {
      "cell_type": "markdown",
      "metadata": {
        "id": "TOSoVZ2XIr8u"
      },
      "source": [
        "# Config"
      ]
    },
    {
      "cell_type": "code",
      "execution_count": null,
      "metadata": {
        "id": "K_bMATnZEd4-"
      },
      "outputs": [],
      "source": [
        "cfg_save_path = \"cfg.pickle\""
      ]
    },
    {
      "cell_type": "code",
      "execution_count": null,
      "metadata": {
        "id": "Od-dUdLQI7n_"
      },
      "outputs": [],
      "source": [
        "cfg = get_cfg()\n",
        "point_rend.add_pointrend_config(cfg)\n",
        "cfg.merge_from_file(\"detectron2_repo/projects/PointRend/configs/InstanceSegmentation/pointrend_rcnn_R_101_FPN_3x_coco.yaml\")\n",
        "\n",
        "cfg.MODEL.WEIGHTS = \"detectron2://PointRend/InstanceSegmentation/pointrend_rcnn_R_101_FPN_3x_coco/28119983/model_final_3f4d2a.pkl\"\n",
        "cfg.MODEL.ROI_HEADS.NUM_CLASSES = num_classes\n",
        "cfg.MODEL.POINT_HEAD.NUM_CLASSES = num_classes\n",
        "cfg.MODEL.DEVICE = device\n",
        "cfg.MODEL.ROI_HEADS.SCORE_THRESH_TEST = 0.7\n",
        "\n",
        "cfg.DATASETS.TRAIN = (train_dataset_name, )\n",
        "cfg.DATASETS.TEST = (test_dataset_name, )\n",
        "\n",
        "cfg.DATALOADER.NUM_WORKERS = 2\n",
        "\n",
        "cfg.SOLVER.IMS_PER_BATCH = 2\n",
        "cfg.SOLVER.BASE_LR = 0.0005\n",
        "cfg.SOLVER.MAX_ITER = 2500\n",
        "cfg.SOLVER.STEPS = []\n",
        "\n",
        "cfg.OUTPUT_DIR = output_dir"
      ]
    },
    {
      "cell_type": "code",
      "execution_count": null,
      "metadata": {
        "id": "OShIavatn67-"
      },
      "outputs": [],
      "source": [
        "with open(\"config.txt\", \"w\") as f:\n",
        "  f.write(cfg.dump())\n",
        "  \n",
        "print(cfg.dump())"
      ]
    },
    {
      "cell_type": "code",
      "execution_count": null,
      "metadata": {
        "id": "svKwliLAO8-u"
      },
      "outputs": [],
      "source": [
        "with open(cfg_save_path, \"wb\") as f:\n",
        "  pickle.dump(cfg, f, protocol=pickle.HIGHEST_PROTOCOL)"
      ]
    },
    {
      "cell_type": "code",
      "execution_count": null,
      "metadata": {
        "id": "ufYOF1tJPT4N"
      },
      "outputs": [],
      "source": [
        "os.makedirs(cfg.OUTPUT_DIR, exist_ok=True)"
      ]
    },
    {
      "cell_type": "markdown",
      "metadata": {
        "id": "zk8gq6i6QJy2"
      },
      "source": [
        "# Train"
      ]
    },
    {
      "cell_type": "code",
      "execution_count": null,
      "metadata": {
        "id": "-OagBEYFPimI"
      },
      "outputs": [],
      "source": [
        "trainer = DefaultTrainer(cfg)\n",
        "trainer.resume_or_load(resume=False)\n",
        "trainer.train()"
      ]
    },
    {
      "cell_type": "markdown",
      "metadata": {
        "id": "ReRjJdcxD8kW"
      },
      "source": [
        "# Test"
      ]
    },
    {
      "cell_type": "code",
      "execution_count": null,
      "metadata": {
        "id": "YuydGqfnEpiO"
      },
      "outputs": [],
      "source": [
        "def test_model(dataset_name, predictor, n=1):\n",
        "  dataset_custom = DatasetCatalog.get(dataset_name)\n",
        "\n",
        "  for s in random.sample(dataset_custom, n):\n",
        "    img = cv2.imread(s[\"file_name\"])\n",
        "    outputs = predictor(img)\n",
        "\n",
        "    v = Visualizer(img[:,:,::-1], metadata={}, scale=0.5, instance_mode=ColorMode.SEGMENTATION)\n",
        "    v = v.draw_instance_predictions(outputs[\"instances\"].to(\"cpu\"))\n",
        "    \n",
        "    plt.figure(figsize=(15,20))\n",
        "    plt.imshow(v.get_image())\n",
        "    plt.show()"
      ]
    },
    {
      "cell_type": "code",
      "execution_count": null,
      "metadata": {
        "id": "zB6HiViAD-I2"
      },
      "outputs": [],
      "source": [
        "cfg_save_path = \"cfg.pickle\"\n",
        "\n",
        "with open(cfg_save_path, \"rb\") as f:\n",
        "  cfg = pickle.load(f)\n",
        "\n",
        "cfg.MODEL.WEIGHTS = os.path.join(cfg.OUTPUT_DIR, \"model_final.pth\")\n",
        "cfg.MODEL.ROI_HEADS.SCORE_THRESH_TEST = 0.7"
      ]
    },
    {
      "cell_type": "code",
      "execution_count": null,
      "metadata": {
        "id": "RyaY1yZWEtCc"
      },
      "outputs": [],
      "source": [
        "predictor = DefaultPredictor(cfg)"
      ]
    },
    {
      "cell_type": "code",
      "execution_count": null,
      "metadata": {
        "id": "vrpQK6Q4WV1Q"
      },
      "outputs": [],
      "source": [
        "test_model(\n",
        "    dataset_name=test_dataset_name,\n",
        "    predictor=predictor,\n",
        "    n=5\n",
        ")"
      ]
    },
    {
      "cell_type": "markdown",
      "metadata": {
        "id": "8RoEdJevcpKs"
      },
      "source": [
        "# Validate"
      ]
    },
    {
      "cell_type": "code",
      "execution_count": null,
      "metadata": {
        "id": "YgaW3WYocrxY"
      },
      "outputs": [],
      "source": [
        "def validate(image_path, predictor):\n",
        "  img = cv2.imread(image_path)\n",
        "  outputs = predictor(img)\n",
        "  \n",
        "  v = Visualizer(img[:,:,::-1], metadata={}, scale=0.5, instance_mode=ColorMode.SEGMENTATION)\n",
        "  v = v.draw_instance_predictions(outputs[\"instances\"].to(\"cpu\"))\n",
        "\n",
        "  plt.figure(figsize=(15,20))\n",
        "  plt.imshow(v.get_image())\n",
        "  plt.show()"
      ]
    },
    {
      "cell_type": "code",
      "execution_count": null,
      "metadata": {
        "id": "UZ2NeSTqdLUI"
      },
      "outputs": [],
      "source": [
        "val_folder_path = \"/content/drive/MyDrive/NRP/Project/Validation/\"\n",
        "\n",
        "for i in range(20):\n",
        "  image_path = val_folder_path + str(i+1) + \".jpg\"\n",
        "  validate(image_path, predictor)"
      ]
    },
    {
      "cell_type": "markdown",
      "metadata": {
        "id": "PSJDexW2nngS"
      },
      "source": [
        "# Results"
      ]
    },
    {
      "cell_type": "code",
      "execution_count": null,
      "metadata": {
        "id": "9WT2pEBQnpyY"
      },
      "outputs": [],
      "source": [
        "evaluator = COCOEvaluator(test_dataset_name, cfg, False, output_dir=\"./results\")\n",
        "val_loader = build_detection_test_loader(cfg, test_dataset_name)\n",
        "inference_on_dataset(predictor.model, val_loader, evaluator)"
      ]
    },
    {
      "cell_type": "markdown",
      "metadata": {
        "id": "yeQeAFd0Tdan"
      },
      "source": [
        "# Notes\n",
        "\n",
        "Dataset: Manga109 images manually annotated using Labelme\n",
        "\n",
        "Classes: Speech, Panel (no Face class as I did not have sufficient time to manually annotate faces)"
      ]
    }
  ],
  "metadata": {
    "accelerator": "GPU",
    "colab": {
      "collapsed_sections": [],
      "name": "IS[PointRend].ipynb",
      "provenance": []
    },
    "kernelspec": {
      "display_name": "Python 3",
      "name": "python3"
    },
    "language_info": {
      "name": "python"
    }
  },
  "nbformat": 4,
  "nbformat_minor": 0
}
