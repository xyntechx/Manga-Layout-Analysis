{
  "nbformat": 4,
  "nbformat_minor": 0,
  "metadata": {
    "colab": {
      "name": "IS[Mask R-CNN]-2 (manual).ipynb",
      "provenance": [],
      "collapsed_sections": []
    },
    "kernelspec": {
      "name": "python3",
      "display_name": "Python 3"
    },
    "language_info": {
      "name": "python"
    },
    "accelerator": "GPU"
  },
  "cells": [
    {
      "cell_type": "code",
      "metadata": {
        "id": "OrZo3MIkocAB"
      },
      "source": [
        "from google.colab import drive\n",
        "drive.mount(\"/content/drive\")"
      ],
      "execution_count": null,
      "outputs": []
    },
    {
      "cell_type": "code",
      "metadata": {
        "id": "yMkjd7ZeJxUl"
      },
      "source": [
        "!pip3 install pixellib --upgrade\n",
        "# !pip3 install pixellib\n",
        "!pip3 uninstall -y tensorflow\n",
        "!pip3 install tensorflow==2.4.4"
      ],
      "execution_count": null,
      "outputs": []
    },
    {
      "cell_type": "code",
      "metadata": {
        "id": "ZXnhx1EoYWrm"
      },
      "source": [
        "# Initialisation\n",
        "import pixellib\n",
        "from pixellib.custom_train import instance_custom_training\n",
        "from pixellib.instance import custom_segmentation"
      ],
      "execution_count": null,
      "outputs": []
    },
    {
      "cell_type": "code",
      "metadata": {
        "id": "RJjuAwwLYcxf"
      },
      "source": [
        "# Train model\n",
        "train_maskrcnn = instance_custom_training()\n",
        "train_maskrcnn.modelConfig(network_backbone=\"resnet101\", num_classes=2, batch_size=4) #num_classes\n",
        "train_maskrcnn.load_pretrained_model(\"dir/to/mask_rcnn_coco.h5\")\n",
        "train_maskrcnn.load_dataset(\"dir/to/Manga2/\")\n",
        "train_maskrcnn.train_model(num_epochs=50, augmentation=True,  path_trained_models=\"mask_rcnn_models\")"
      ],
      "execution_count": null,
      "outputs": []
    },
    {
      "cell_type": "code",
      "metadata": {
        "id": "G_mX1XaFYe2k"
      },
      "source": [
        "# Evaluate model\n",
        "evaluate_maskrcnn = instance_custom_training()\n",
        "evaluate_maskrcnn.modelConfig(network_backbone=\"resnet101\", num_classes=2) #num_classes\n",
        "evaluate_maskrcnn.load_dataset(\"dir/to/Manga2/\")\n",
        "\n",
        "iou_thresholds = [0.5, 0.75]\n",
        "for iou_threshold in iou_thresholds:\n",
        "  evaluate_maskrcnn.evaluate_model(\"dir/to/IS[Mask R-CNN]-2 (manual).h5\", iou_threshold=iou_threshold)"
      ],
      "execution_count": null,
      "outputs": []
    }
  ]
}