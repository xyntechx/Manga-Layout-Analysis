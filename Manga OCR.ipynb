{
  "nbformat": 4,
  "nbformat_minor": 2,
  "metadata": {
    "colab": {
      "name": "Manga OCR.ipynb",
      "provenance": [],
      "collapsed_sections": []
    },
    "kernelspec": {
      "name": "python3",
      "display_name": "Python 3"
    },
    "language_info": {
      "name": "python"
    },
    "accelerator": "GPU"
  },
  "cells": [
    {
      "cell_type": "markdown",
      "source": [
        "# Setup"
      ],
      "metadata": {
        "id": "UT3bPfHpjeM_"
      }
    },
    {
      "cell_type": "code",
      "execution_count": null,
      "source": [
        "from google.colab import drive\n",
        "drive.mount(\"/content/drive\")"
      ],
      "outputs": [],
      "metadata": {
        "id": "IFZrbdrNJwBt"
      }
    },
    {
      "cell_type": "code",
      "execution_count": null,
      "source": [
        "!git clone https://github.com/rois-codh/kmnist.git"
      ],
      "outputs": [],
      "metadata": {
        "id": "_i8g2x0uEriy"
      }
    },
    {
      "cell_type": "code",
      "execution_count": null,
      "source": [
        "%cd kmnist"
      ],
      "outputs": [],
      "metadata": {
        "id": "qB46iFSWHcOW"
      }
    },
    {
      "cell_type": "code",
      "execution_count": null,
      "source": [
        "# Use Kuzushiji-49 and Kuzushiji-Kanji\n",
        "for i in range(2):\n",
        "    !python download_data.py"
      ],
      "outputs": [],
      "metadata": {
        "id": "GD7H4yV3HXkn"
      }
    },
    {
      "cell_type": "code",
      "execution_count": 5,
      "source": [
        "import numpy as np\n",
        "import tensorflow as tf\n",
        "from google.colab.patches import cv2_imshow\n",
        "from tensorflow.keras.preprocessing.image import ImageDataGenerator\n",
        "from tensorflow.keras.optimizers import SGD\n",
        "from sklearn.preprocessing import LabelBinarizer\n",
        "from sklearn.model_selection import train_test_split\n",
        "from sklearn.metrics import classification_report\n",
        "from imutils import build_montages\n",
        "from PIL import Image\n",
        "import matplotlib.pyplot as plt\n",
        "import argparse\n",
        "import cv2\n",
        "import matplotlib\n",
        "import os\n",
        "import tarfile\n",
        "matplotlib.use(\"Agg\")"
      ],
      "outputs": [],
      "metadata": {
        "id": "2v8b7qhYjrAG"
      }
    },
    {
      "cell_type": "markdown",
      "source": [
        "# Prepare Dataset"
      ],
      "metadata": {
        "id": "vTWyKIsvmCYT"
      }
    },
    {
      "cell_type": "code",
      "execution_count": 6,
      "source": [
        "tar = tarfile.open(\"kkanji.tar\")\n",
        "tar.extractall()\n",
        "tar.close()"
      ],
      "outputs": [],
      "metadata": {
        "id": "ddJHw0CuT8a0"
      }
    },
    {
      "cell_type": "code",
      "execution_count": 7,
      "source": [
        "kanji_label_dict = {}\n",
        "index = 49\n",
        "\n",
        "for folder in os.listdir(\"./kkanji2\"):\n",
        "    label = chr(int(folder[2:], 16)) # convert U+____ into Japanese characters\n",
        "    kanji_label_dict[label] = index\n",
        "    index += 1"
      ],
      "outputs": [],
      "metadata": {
        "id": "X81u-W9ks4EF"
      }
    },
    {
      "cell_type": "code",
      "execution_count": null,
      "source": [
        "%cd /content/drive/MyDrive/NRP/Project/OCRData"
      ],
      "outputs": [],
      "metadata": {
        "id": "yNFDnRjr8jyr"
      }
    },
    {
      "cell_type": "code",
      "execution_count": 9,
      "source": [
        "def open_kanji_data(filename: str):\n",
        "    with open(filename, \"rb\") as data_dir:\n",
        "        np_data = np.load(data_dir)[\"arr_0\"]\n",
        "        length = len(np_data)\n",
        "        start, end = 0, 50\n",
        "\n",
        "        data = [cv2.resize(image, (32, 32)) for image in np_data[start:end]]\n",
        "\n",
        "        while end < length:\n",
        "            start = end\n",
        "            end += 50\n",
        "            if end > length:\n",
        "                small_data = [cv2.resize(image, (32, 32)) for image in np_data[start:]]\n",
        "            else:\n",
        "                small_data = [cv2.resize(image, (32, 32)) for image in np_data[start:end]]\n",
        "\n",
        "        data = np.array(data, dtype=\"float32\")\n",
        "        data = np.expand_dims(data, axis=-1)\n",
        "        data /= 255.0\n",
        "        return data"
      ],
      "outputs": [],
      "metadata": {
        "id": "_zDF-cCd0r-8"
      }
    },
    {
      "cell_type": "code",
      "execution_count": 10,
      "source": [
        "def open_kanji_labels(filename: str):\n",
        "    with open(filename, \"rb\") as labels_dir:\n",
        "        labels = np.load(labels_dir)[\"arr_0\"]\n",
        "        return labels"
      ],
      "outputs": [],
      "metadata": {
        "id": "aMhzr6Rk18pp"
      }
    },
    {
      "cell_type": "code",
      "execution_count": 11,
      "source": [
        "kanji_one = open_kanji_data(\"kanji_one.npz\")\n",
        "kanji_two = open_kanji_data(\"kanji_two.npz\")\n",
        "kanji_three = open_kanji_data(\"kanji_three.npz\")"
      ],
      "outputs": [],
      "metadata": {
        "id": "nYS94ybA0caH"
      }
    },
    {
      "cell_type": "code",
      "execution_count": 12,
      "source": [
        "kanji_labels_one = open_kanji_labels(\"kanji_labels_one.npz\")\n",
        "kanji_labels_two = open_kanji_labels(\"kanji_labels_two.npz\")\n",
        "kanji_labels_three = open_kanji_labels(\"kanji_labels_three.npz\")"
      ],
      "outputs": [],
      "metadata": {
        "id": "yZyK9OnC18SF"
      }
    },
    {
      "cell_type": "code",
      "execution_count": null,
      "source": [
        "import csv\n",
        "hiragana_label_dict = {}\n",
        "\n",
        "with open(\"k49_classmap.csv\", \"r\") as file:\n",
        "    csvreader = csv.reader(file)\n",
        "    header = next(csvreader)\n",
        "    for row in csvreader:\n",
        "        hiragana_label_dict[row[2]] = row[0]"
      ],
      "outputs": [],
      "metadata": {
        "id": "mVt62bCMQuns"
      }
    },
    {
      "cell_type": "code",
      "execution_count": 14,
      "source": [
        "def load_49_dataset():\n",
        "    TRAIN_DATA = \"/content/kmnist/k49-train-imgs.npz\"\n",
        "    TRAIN_LABELS = \"/content/kmnist/k49-train-labels.npz\"\n",
        "    TEST_DATA = \"/content/kmnist/k49-test-imgs.npz\"\n",
        "    TEST_LABELS = \"/content/kmnist/k49-test-labels.npz\"\n",
        "\n",
        "    train_data = np.load(TRAIN_DATA)[\"arr_0\"]\n",
        "    train_labels = np.load(TRAIN_LABELS)[\"arr_0\"]\n",
        "    test_data = np.load(TEST_DATA)[\"arr_0\"]\n",
        "    test_labels = np.load(TEST_LABELS)[\"arr_0\"]\n",
        "\n",
        "    data = np.vstack([train_data, test_data])\n",
        "    labels = np.hstack([train_labels, test_labels])\n",
        "    return (data, labels)"
      ],
      "outputs": [],
      "metadata": {
        "id": "loOLK4GXO_-U"
      }
    },
    {
      "cell_type": "code",
      "execution_count": 15,
      "source": [
        "data_49, labels_49 = load_49_dataset()\n",
        "\n",
        "data_49 = [cv2.resize(image, (32, 32)) for image in data_49]\n",
        "data_49 = np.array(data_49, dtype=\"float32\")\n",
        "\n",
        "data_49 = np.expand_dims(data_49, axis=-1)\n",
        "data_49 /= 255.0"
      ],
      "outputs": [],
      "metadata": {
        "id": "j8dnkfFbnC3p"
      }
    },
    {
      "cell_type": "code",
      "execution_count": 16,
      "source": [
        "data = np.vstack([data_49, kanji_one, kanji_two, kanji_three])\n",
        "labels = np.hstack([labels_49, kanji_labels_one, kanji_labels_two, kanji_labels_three])"
      ],
      "outputs": [],
      "metadata": {
        "id": "y7NvHJL43OmY"
      }
    },
    {
      "cell_type": "code",
      "execution_count": null,
      "source": [
        "le = LabelBinarizer()\n",
        "labels = le.fit_transform(labels)\n",
        "counts = labels.sum(axis=0)\n",
        "\n",
        "class_totals = labels.sum(axis=0)\n",
        "class_weight = {}\n",
        "\n",
        "for i in range(0, len(class_totals)):\n",
        "    class_weight[i] = class_totals.max() / class_totals[i]\n",
        "\n",
        "train_x, test_x, train_y, test_y = train_test_split(data, labels, test_size=0.20, stratify=labels, random_state=42)"
      ],
      "outputs": [],
      "metadata": {
        "id": "8NL-NhCmtU1i"
      }
    },
    {
      "cell_type": "code",
      "execution_count": null,
      "source": [
        "aug = ImageDataGenerator(\n",
        "  rotation_range=10,\n",
        "  zoom_range=0.05,\n",
        "  width_shift_range=0.1,\n",
        "  height_shift_range=0.1,\n",
        "  shear_range=0.15,\n",
        "  horizontal_flip=False,\n",
        "  fill_mode=\"nearest\")"
      ],
      "outputs": [],
      "metadata": {
        "id": "ItQVAZ59tpA_"
      }
    },
    {
      "cell_type": "markdown",
      "source": [
        "# Train Model"
      ],
      "metadata": {
        "id": "AugiSlTnuRqH"
      }
    },
    {
      "cell_type": "code",
      "execution_count": null,
      "source": [
        "# Settings\n",
        "EPOCHS = 50\n",
        "INIT_LR = 1e-1\n",
        "BS = 128"
      ],
      "outputs": [],
      "metadata": {
        "id": "ah4zVTnjm5oD"
      }
    },
    {
      "cell_type": "code",
      "execution_count": null,
      "source": [
        "model = tf.keras.applications.resnet50.ResNet50(input_shape=(32, 32, 1), weights=None, classes=3881)"
      ],
      "outputs": [],
      "metadata": {
        "id": "OVEBgWEizTyp"
      }
    },
    {
      "cell_type": "code",
      "execution_count": null,
      "source": [
        "opt = SGD(learning_rate=INIT_LR, decay=INIT_LR/EPOCHS)\n",
        "model.compile(loss=\"categorical_crossentropy\", optimizer=opt, metrics=[\"accuracy\"])"
      ],
      "outputs": [],
      "metadata": {
        "id": "kfjKm5hauNaH"
      }
    },
    {
      "cell_type": "code",
      "execution_count": null,
      "source": [
        "H = model.fit(\n",
        "    aug.flow(train_x, train_y, batch_size=BS),\n",
        "    validation_data=(test_x, test_y),\n",
        "    steps_per_epoch=len(train_x)//BS,\n",
        "    epochs=EPOCHS,\n",
        "    class_weight=class_weight,\n",
        "    verbose=1\n",
        "    )"
      ],
      "outputs": [],
      "metadata": {
        "id": "jvwhUV9ww7-J"
      }
    },
    {
      "cell_type": "code",
      "execution_count": null,
      "source": [
        "%cd /content/"
      ],
      "outputs": [],
      "metadata": {
        "id": "YM6cw7bV96Ed"
      }
    },
    {
      "cell_type": "code",
      "execution_count": null,
      "source": [
        "model.save(\"manga_ocr.h5\")"
      ],
      "outputs": [],
      "metadata": {
        "id": "fdITzk3uG-gc"
      }
    },
    {
      "cell_type": "markdown",
      "source": [
        "# Evaluate Model"
      ],
      "metadata": {
        "id": "gmKe8zg8J6ik"
      }
    },
    {
      "cell_type": "code",
      "execution_count": null,
      "source": [
        "label_dict = {}\n",
        "label_dict.update(hiragana_label_dict)\n",
        "label_dict.update(kanji_label_dict)\n",
        "\n",
        "label_names = [str(index) for index in label_dict]"
      ],
      "outputs": [],
      "metadata": {
        "id": "us91hbqqmZRU"
      }
    },
    {
      "cell_type": "code",
      "execution_count": null,
      "source": [
        "predictions = model.predict(test_x, batch_size=BS)\n",
        "print(classification_report(test_y.argmax(axis=1), predictions.argmax(axis=1), target_names=label_names))"
      ],
      "outputs": [],
      "metadata": {
        "id": "9n11UDImJ5kr"
      }
    },
    {
      "cell_type": "markdown",
      "source": [
        "# Analyse Model"
      ],
      "metadata": {
        "id": "_w-oqsz3J_Zb"
      }
    },
    {
      "cell_type": "code",
      "execution_count": null,
      "source": [
        "images = []\n",
        "\n",
        "for i in np.random.choice(np.arange(0, len(test_y)), size=(49,)):\n",
        "    probs = model.predict(test_x[np.newaxis, i])\n",
        "    prediction = probs.argmax(axis=1)\n",
        "    label = label_names[prediction[0]]\n",
        "    image = (test_x[i]*255).astype(\"uint8\")\n",
        "    color = (0, 255, 0)\n",
        "\n",
        "    if prediction[0] != np.argmax(test_y[i]):\n",
        "        color = (0, 0, 255)\n",
        "\n",
        "    image = cv2.merge([image] * 3)\n",
        "    image = cv2.resize(image, (96, 96), interpolation=cv2.INTER_LINEAR)\n",
        "    cv2.putText(image, label, (5, 20), cv2.FONT_HERSHEY_SIMPLEX, 0.75, color, 2)\n",
        "    images.append(image)\n",
        "\n",
        "montage = build_montages(images, (96, 96), (7, 7))[0]\n",
        "\n",
        "cv2_imshow(montage)\n",
        "cv2.waitKey(0)"
      ],
      "outputs": [],
      "metadata": {
        "id": "7aMYxugOGBNz"
      }
    }
  ]
}