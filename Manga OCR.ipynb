{
  "nbformat": 4,
  "nbformat_minor": 0,
  "metadata": {
    "colab": {
      "name": "Manga OCR.ipynb",
      "provenance": [],
      "collapsed_sections": []
    },
    "kernelspec": {
      "name": "python3",
      "display_name": "Python 3"
    },
    "language_info": {
      "name": "python"
    }
  },
  "cells": [
    {
      "cell_type": "code",
      "metadata": {
        "id": "_i8g2x0uEriy"
      },
      "source": [
        "!git clone https://github.com/rois-codh/kmnist.git"
      ],
      "execution_count": null,
      "outputs": []
    },
    {
      "cell_type": "code",
      "metadata": {
        "id": "qB46iFSWHcOW"
      },
      "source": [
        "%cd kmnist"
      ],
      "execution_count": null,
      "outputs": []
    },
    {
      "cell_type": "code",
      "metadata": {
        "id": "GD7H4yV3HXkn"
      },
      "source": [
        "# Download ALL datasets\n",
        "for i in range(4):\n",
        "  !python download_data.py"
      ],
      "execution_count": null,
      "outputs": []
    }
  ]
}